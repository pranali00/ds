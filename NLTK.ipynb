{
 "cells": [
  {
   "cell_type": "code",
   "execution_count": 1,
   "id": "4ee282f6-f349-46be-8e42-a3a7febb7ed5",
   "metadata": {},
   "outputs": [
    {
     "name": "stdout",
     "output_type": "stream",
     "text": [
      "Collecting nltk\n",
      "  Downloading nltk-3.8.1-py3-none-any.whl (1.5 MB)\n",
      "\u001b[K     |████████████████████████████████| 1.5 MB 90 kB/s eta 0:00:012\n",
      "\u001b[?25hRequirement already satisfied: click in /usr/lib/python3/dist-packages (from nltk) (7.0)\n",
      "Collecting regex>=2021.8.3\n",
      "  Downloading regex-2024.4.16-cp38-cp38-manylinux_2_17_x86_64.manylinux2014_x86_64.whl (777 kB)\n",
      "\u001b[K     |████████████████████████████████| 777 kB 273 kB/s eta 0:00:01\n",
      "\u001b[?25hCollecting tqdm\n",
      "  Downloading tqdm-4.66.2-py3-none-any.whl (78 kB)\n",
      "\u001b[K     |████████████████████████████████| 78 kB 293 kB/s eta 0:00:01\n",
      "\u001b[?25hCollecting joblib\n",
      "  Using cached joblib-1.4.0-py3-none-any.whl (301 kB)\n",
      "Installing collected packages: regex, tqdm, joblib, nltk\n",
      "Successfully installed joblib-1.4.0 nltk-3.8.1 regex-2024.4.16 tqdm-4.66.2\n"
     ]
    }
   ],
   "source": [
    "!pip install nltk"
   ]
  },
  {
   "cell_type": "code",
   "execution_count": 2,
   "id": "ff9663e7-557e-46e9-98aa-3c409d3a155e",
   "metadata": {},
   "outputs": [
    {
     "name": "stderr",
     "output_type": "stream",
     "text": [
      "[nltk_data] Downloading package punkt to /home/pranali/nltk_data...\n",
      "[nltk_data]   Unzipping tokenizers/punkt.zip.\n"
     ]
    },
    {
     "data": {
      "text/plain": [
       "True"
      ]
     },
     "execution_count": 2,
     "metadata": {},
     "output_type": "execute_result"
    }
   ],
   "source": [
    "import nltk\n",
    "nltk.download('punkt')"
   ]
  },
  {
   "cell_type": "code",
   "execution_count": 3,
   "id": "91d46b8f-c0e4-4d53-9ae0-f68da3df65ad",
   "metadata": {},
   "outputs": [
    {
     "name": "stderr",
     "output_type": "stream",
     "text": [
      "[nltk_data] Downloading package stopwords to\n",
      "[nltk_data]     /home/pranali/nltk_data...\n",
      "[nltk_data]   Unzipping corpora/stopwords.zip.\n"
     ]
    },
    {
     "data": {
      "text/plain": [
       "True"
      ]
     },
     "execution_count": 3,
     "metadata": {},
     "output_type": "execute_result"
    }
   ],
   "source": [
    "nltk.download(\"stopwords\")\n"
   ]
  },
  {
   "cell_type": "code",
   "execution_count": 4,
   "id": "2b4e15b7-5b18-4a6a-9bfc-346a18b07e44",
   "metadata": {},
   "outputs": [],
   "source": [
    "from nltk import sent_tokenize,word_tokenize\n",
    "from nltk.corpus import stopwords\n",
    "stopwords=stopwords.words(\"english\")"
   ]
  },
  {
   "cell_type": "code",
   "execution_count": 5,
   "id": "fe5a4043-fd1c-436b-8cbf-5bc7234b0ac5",
   "metadata": {},
   "outputs": [
    {
     "name": "stdout",
     "output_type": "stream",
     "text": [
      "['i', 'will', 'walk', '500', 'miles', 'and', 'i', 'would', 'walk', '500', 'more', ',', 'just', 'to', 'be', 'the', 'man', 'who', 'walks', 'a', 'thousand', 'miles', 'to', 'fall', 'down', 'at', 'your', 'door']\n"
     ]
    }
   ],
   "source": [
    "sent=\"I will walk 500 miles and I would walk 500 more,just to be the man who walks a thousand miles to fall down at your door\".lower()\n",
    "sent\n",
    "words=word_tokenize(sent)\n",
    "print(words)"
   ]
  },
  {
   "cell_type": "code",
   "execution_count": 6,
   "id": "5db1b206-e2d6-42c4-ac2a-d9d502d9be2c",
   "metadata": {},
   "outputs": [
    {
     "name": "stdout",
     "output_type": "stream",
     "text": [
      "['i will walk 500 miles and i would walk 500 more,just to be the man who walks a thousand miles to fall down at your door']\n"
     ]
    }
   ],
   "source": [
    "sentences=sent_tokenize(sent)\n",
    "print(sentences)"
   ]
  },
  {
   "cell_type": "code",
   "execution_count": 7,
   "id": "a1530f58-691a-4835-aa10-11943822dc55",
   "metadata": {},
   "outputs": [
    {
     "name": "stdout",
     "output_type": "stream",
     "text": [
      "['i', 'me', 'my', 'myself', 'we', 'our', 'ours', 'ourselves', 'you', \"you're\", \"you've\", \"you'll\", \"you'd\", 'your', 'yours', 'yourself', 'yourselves', 'he', 'him', 'his', 'himself', 'she', \"she's\", 'her', 'hers', 'herself', 'it', \"it's\", 'its', 'itself', 'they', 'them', 'their', 'theirs', 'themselves', 'what', 'which', 'who', 'whom', 'this', 'that', \"that'll\", 'these', 'those', 'am', 'is', 'are', 'was', 'were', 'be', 'been', 'being', 'have', 'has', 'had', 'having', 'do', 'does', 'did', 'doing', 'a', 'an', 'the', 'and', 'but', 'if', 'or', 'because', 'as', 'until', 'while', 'of', 'at', 'by', 'for', 'with', 'about', 'against', 'between', 'into', 'through', 'during', 'before', 'after', 'above', 'below', 'to', 'from', 'up', 'down', 'in', 'out', 'on', 'off', 'over', 'under', 'again', 'further', 'then', 'once', 'here', 'there', 'when', 'where', 'why', 'how', 'all', 'any', 'both', 'each', 'few', 'more', 'most', 'other', 'some', 'such', 'no', 'nor', 'not', 'only', 'own', 'same', 'so', 'than', 'too', 'very', 's', 't', 'can', 'will', 'just', 'don', \"don't\", 'should', \"should've\", 'now', 'd', 'll', 'm', 'o', 're', 've', 'y', 'ain', 'aren', \"aren't\", 'couldn', \"couldn't\", 'didn', \"didn't\", 'doesn', \"doesn't\", 'hadn', \"hadn't\", 'hasn', \"hasn't\", 'haven', \"haven't\", 'isn', \"isn't\", 'ma', 'mightn', \"mightn't\", 'mustn', \"mustn't\", 'needn', \"needn't\", 'shan', \"shan't\", 'shouldn', \"shouldn't\", 'wasn', \"wasn't\", 'weren', \"weren't\", 'won', \"won't\", 'wouldn', \"wouldn't\"]\n"
     ]
    }
   ],
   "source": [
    "print(stopwords)\n"
   ]
  },
  {
   "cell_type": "code",
   "execution_count": 9,
   "id": "943c0e60-29de-40d5-a25d-f9c8cba997b8",
   "metadata": {},
   "outputs": [
    {
     "name": "stdout",
     "output_type": "stream",
     "text": [
      "['will', 'walk', '500', 'miles', 'and', 'i', 'would', 'walk', '500', 'more', ',', 'just', 'to', 'be', 'the', 'man', 'who', 'walks', 'a', 'thousand', 'miles', 'to', 'fall', 'down', 'at', 'your', 'door']\n",
      "['will', 'walk', '500', 'miles', 'i', 'would', 'walk', '500', 'more', ',', 'just', 'to', 'be', 'the', 'man', 'who', 'walks', 'a', 'thousand', 'miles', 'to', 'fall', 'down', 'at', 'your', 'door']\n",
      "['will', 'walk', '500', 'miles', 'i', 'would', 'walk', '500', ',', 'just', 'to', 'be', 'the', 'man', 'who', 'walks', 'a', 'thousand', 'miles', 'to', 'fall', 'down', 'at', 'your', 'door']\n",
      "['will', 'walk', '500', 'miles', 'i', 'would', 'walk', '500', ',', 'to', 'be', 'the', 'man', 'who', 'walks', 'a', 'thousand', 'miles', 'to', 'fall', 'down', 'at', 'your', 'door']\n",
      "['will', 'walk', '500', 'miles', 'i', 'would', 'walk', '500', ',', 'to', 'the', 'man', 'who', 'walks', 'a', 'thousand', 'miles', 'to', 'fall', 'down', 'at', 'your', 'door']\n",
      "['will', 'walk', '500', 'miles', 'i', 'would', 'walk', '500', ',', 'to', 'the', 'man', 'walks', 'a', 'thousand', 'miles', 'to', 'fall', 'down', 'at', 'your', 'door']\n",
      "['will', 'walk', '500', 'miles', 'i', 'would', 'walk', '500', ',', 'to', 'the', 'man', 'walks', 'thousand', 'miles', 'to', 'fall', 'down', 'at', 'your', 'door']\n",
      "['will', 'walk', '500', 'miles', 'i', 'would', 'walk', '500', ',', 'the', 'man', 'walks', 'thousand', 'miles', 'to', 'fall', 'down', 'at', 'your', 'door']\n",
      "['will', 'walk', '500', 'miles', 'i', 'would', 'walk', '500', ',', 'the', 'man', 'walks', 'thousand', 'miles', 'to', 'fall', 'at', 'your', 'door']\n",
      "['will', 'walk', '500', 'miles', 'i', 'would', 'walk', '500', ',', 'the', 'man', 'walks', 'thousand', 'miles', 'to', 'fall', 'at', 'door']\n"
     ]
    }
   ],
   "source": [
    "for word in words:\n",
    "   if word in stopwords:\n",
    "      words.remove(word)\n",
    "      print(words)\n"
   ]
  },
  {
   "cell_type": "code",
   "execution_count": 10,
   "id": "48096106-f5c6-4aeb-b61f-94404b5095ff",
   "metadata": {},
   "outputs": [
    {
     "name": "stdout",
     "output_type": "stream",
     "text": [
      "['will', 'walk', '500', 'miles', 'i', 'would', 'walk', '500', ',', 'the', 'man', 'walks', 'thousand', 'miles', 'to', 'fall', 'at', 'door']\n"
     ]
    }
   ],
   "source": [
    "from nltk import PorterStemmer\n",
    "stemmer=PorterStemmer()\n",
    "print(words)"
   ]
  },
  {
   "cell_type": "code",
   "execution_count": 11,
   "id": "fdcd9db6-1672-4a6a-8627-50a17d918338",
   "metadata": {},
   "outputs": [
    {
     "name": "stdout",
     "output_type": "stream",
     "text": [
      "['will', 'walk', '500', 'mile', 'i', 'would', 'walk', '500', ',', 'the', 'man', 'walk', 'thousand', 'mile', 'to', 'fall', 'at', 'door']\n"
     ]
    }
   ],
   "source": [
    "stemmed_words=[stemmer.stem(word) for word in words]\n",
    "print(stemmed_words)\n"
   ]
  },
  {
   "cell_type": "code",
   "execution_count": 12,
   "id": "131fb2cd-902e-4bfb-bd93-69ecfd16c886",
   "metadata": {},
   "outputs": [
    {
     "name": "stderr",
     "output_type": "stream",
     "text": [
      "[nltk_data] Downloading package averaged_perceptron_tagger to\n",
      "[nltk_data]     /home/pranali/nltk_data...\n",
      "[nltk_data]   Unzipping taggers/averaged_perceptron_tagger.zip.\n"
     ]
    },
    {
     "data": {
      "text/plain": [
       "True"
      ]
     },
     "execution_count": 12,
     "metadata": {},
     "output_type": "execute_result"
    }
   ],
   "source": [
    "from collections import Counter\n",
    "from nltk import pos_tag\n",
    "nltk.download('averaged_perceptron_tagger')\n"
   ]
  },
  {
   "cell_type": "code",
   "execution_count": 14,
   "id": "b43e1175-c9a4-429a-b03f-769c579904a5",
   "metadata": {},
   "outputs": [
    {
     "name": "stdout",
     "output_type": "stream",
     "text": [
      "{'will': 1}\n",
      "{'will': 1, 'walk': 1}\n",
      "{'will': 1, 'walk': 1, '500': 1}\n",
      "{'will': 1, 'walk': 1, '500': 1, 'mile': 1}\n",
      "{'will': 1, 'walk': 1, '500': 1, 'mile': 1, 'i': 1}\n",
      "{'will': 1, 'walk': 1, '500': 1, 'mile': 1, 'i': 1, 'would': 1}\n",
      "{'will': 1, 'walk': 2, '500': 2, 'mile': 1, 'i': 1, 'would': 1, ',': 1}\n",
      "{'will': 1, 'walk': 2, '500': 2, 'mile': 1, 'i': 1, 'would': 1, ',': 1, 'the': 1}\n",
      "{'will': 1, 'walk': 2, '500': 2, 'mile': 1, 'i': 1, 'would': 1, ',': 1, 'the': 1, 'man': 1}\n",
      "{'will': 1, 'walk': 3, '500': 2, 'mile': 1, 'i': 1, 'would': 1, ',': 1, 'the': 1, 'man': 1, 'thousand': 1}\n",
      "{'will': 1, 'walk': 3, '500': 2, 'mile': 2, 'i': 1, 'would': 1, ',': 1, 'the': 1, 'man': 1, 'thousand': 1, 'to': 1}\n",
      "{'will': 1, 'walk': 3, '500': 2, 'mile': 2, 'i': 1, 'would': 1, ',': 1, 'the': 1, 'man': 1, 'thousand': 1, 'to': 1, 'fall': 1}\n",
      "{'will': 1, 'walk': 3, '500': 2, 'mile': 2, 'i': 1, 'would': 1, ',': 1, 'the': 1, 'man': 1, 'thousand': 1, 'to': 1, 'fall': 1, 'at': 1}\n",
      "{'will': 1, 'walk': 3, '500': 2, 'mile': 2, 'i': 1, 'would': 1, ',': 1, 'the': 1, 'man': 1, 'thousand': 1, 'to': 1, 'fall': 1, 'at': 1, 'door': 1}\n"
     ]
    }
   ],
   "source": [
    "count_dict={}\n",
    "for word in stemmed_words:\n",
    "  if word in count_dict:\n",
    "    count_dict[word]+=1\n",
    "  else:\n",
    "    count_dict[word]=1\n",
    "    print(count_dict)"
   ]
  },
  {
   "cell_type": "code",
   "execution_count": 15,
   "id": "a0336442-edf8-43d3-bf35-03ef3aa4cec5",
   "metadata": {},
   "outputs": [
    {
     "name": "stdout",
     "output_type": "stream",
     "text": [
      "[('will', 'MD'), ('walk', 'VB'), ('500', 'CD'), ('mile', 'NN'), ('i', 'NN'), ('would', 'MD'), ('walk', 'VB'), ('500', 'CD'), (',', ','), ('the', 'DT'), ('man', 'NN'), ('walk', 'NN'), ('thousand', 'VBP'), ('mile', 'NN'), ('to', 'TO'), ('fall', 'VB'), ('at', 'IN'), ('door', 'NN')]\n"
     ]
    }
   ],
   "source": [
    "pos_tagged=pos_tag(stemmed_words)\n",
    "print(pos_tagged)\n"
   ]
  },
  {
   "cell_type": "code",
   "execution_count": 16,
   "id": "f75ced85-4c98-4460-b0ad-09951c1133ed",
   "metadata": {},
   "outputs": [
    {
     "name": "stdout",
     "output_type": "stream",
     "text": [
      "Counter({'NN': 6, 'VB': 3, 'MD': 2, 'CD': 2, ',': 1, 'DT': 1, 'VBP': 1, 'TO': 1, 'IN': 1})\n"
     ]
    }
   ],
   "source": [
    "count=Counter(tag for _ , tag in pos_tagged)\n",
    "print(count)\n",
    "\n"
   ]
  },
  {
   "cell_type": "code",
   "execution_count": null,
   "id": "10a4d223-83fc-4130-b25d-53d485efe050",
   "metadata": {},
   "outputs": [],
   "source": []
  },
  {
   "cell_type": "code",
   "execution_count": null,
   "id": "d909ae01-8c09-42cf-8e17-fae5c3bf4264",
   "metadata": {},
   "outputs": [],
   "source": []
  },
  {
   "cell_type": "code",
   "execution_count": null,
   "id": "1fb3c710-e30f-4d84-9e12-ddf8c1648b74",
   "metadata": {},
   "outputs": [],
   "source": []
  },
  {
   "cell_type": "code",
   "execution_count": null,
   "id": "4640cb66-588d-4c50-8ad5-58c5124ac913",
   "metadata": {},
   "outputs": [],
   "source": []
  }
 ],
 "metadata": {
  "kernelspec": {
   "display_name": "Python 3 (ipykernel)",
   "language": "python",
   "name": "python3"
  },
  "language_info": {
   "codemirror_mode": {
    "name": "ipython",
    "version": 3
   },
   "file_extension": ".py",
   "mimetype": "text/x-python",
   "name": "python",
   "nbconvert_exporter": "python",
   "pygments_lexer": "ipython3",
   "version": "3.8.10"
  }
 },
 "nbformat": 4,
 "nbformat_minor": 5
}
